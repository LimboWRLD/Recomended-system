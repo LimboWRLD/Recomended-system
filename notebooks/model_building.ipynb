{
 "cells": [
  {
   "cell_type": "code",
   "execution_count": 8,
   "id": "79fc6239-b7da-4331-8626-af693e10c7b4",
   "metadata": {},
   "outputs": [
    {
     "name": "stdout",
     "output_type": "stream",
     "text": [
      "RMSE: 0.8790\n",
      "RMSE: 0.8790395081623208\n"
     ]
    }
   ],
   "source": [
    "from surprise import Dataset, Reader, SVD\n",
    "from surprise.model_selection import train_test_split\n",
    "from surprise.accuracy import rmse  \n",
    "import pickle\n",
    "import pandas\n",
    "\n",
    "data_path = '../datasets/ml-latest-small/ratings.csv'\n",
    "reader = Reader(line_format='user item rating timestamp', sep=',', skip_lines=1)\n",
    "data = Dataset.load_from_file(data_path, reader=reader)\n",
    "\n",
    "trainset, testset = train_test_split(data, test_size=0.2)\n",
    "\n",
    "svd_model = SVD()\n",
    "svd_model.fit(trainset)\n",
    "\n",
    "predictions = svd_model.test(testset)\n",
    "print(f\"RMSE: {rmse(predictions)}\")\n"
   ]
  },
  {
   "cell_type": "code",
   "execution_count": 9,
   "id": "08998c3f-9d6f-4230-99d5-57bcd054391e",
   "metadata": {},
   "outputs": [
    {
     "name": "stdout",
     "output_type": "stream",
     "text": [
      "{'rmse': {'n_factors': 100, 'n_epochs': 30, 'lr_all': 0.01, 'reg_all': 0.1}}\n",
      "Best RMSE: 0.8616995439184981\n"
     ]
    }
   ],
   "source": [
    "\n",
    "from surprise.model_selection import GridSearchCV\n",
    "\n",
    "param_grid = {\n",
    "    'n_factors': [50, 100, 150],\n",
    "    'n_epochs': [10, 20, 30],\n",
    "    'lr_all': [0.002, 0.005, 0.01],\n",
    "    'reg_all': [0.02, 0.1, 0.2]\n",
    "}\n",
    "\n",
    "grid_search = GridSearchCV(SVD, param_grid, measures=['rmse'], cv=3)\n",
    "grid_search.fit(data)\n",
    "print(grid_search.best_params)\n",
    "print(f\"Best RMSE: {grid_search.best_score['rmse']}\")\n"
   ]
  },
  {
   "cell_type": "code",
   "execution_count": 10,
   "id": "23b68a81-2689-4eba-965a-425b13d32355",
   "metadata": {},
   "outputs": [
    {
     "name": "stdout",
     "output_type": "stream",
     "text": [
      "Computing the cosine similarity matrix...\n",
      "Done computing similarity matrix.\n",
      "RMSE: 0.9745\n",
      "RMSE: 0.9745352331639119\n"
     ]
    }
   ],
   "source": [
    "from surprise import KNNBasic\n",
    "\n",
    "data = Dataset.load_from_file(data_path, reader=reader)\n",
    "trainset, testset = train_test_split(data, test_size=0.25)\n",
    "\n",
    "sim_options = {\n",
    "    'name': 'cosine',\n",
    "    'user_based': False  \n",
    "}\n",
    "\n",
    "knn_model = KNNBasic(sim_options=sim_options)\n",
    "knn_model.fit(trainset)\n",
    "predictions = knn_model.test(testset)\n",
    "print(f\"RMSE: {rmse(predictions)}\")\n"
   ]
  },
  {
   "cell_type": "code",
   "execution_count": 11,
   "id": "54c9ccbe-2989-4c8c-8f26-7e471ce51b91",
   "metadata": {},
   "outputs": [],
   "source": [
    "with open('knn_model.pkl', 'wb') as file:\n",
    "    pickle.dump(knn_model, file)"
   ]
  },
  {
   "cell_type": "code",
   "execution_count": 3,
   "id": "97a59a80-6713-4e8f-9866-87636253643d",
   "metadata": {},
   "outputs": [],
   "source": [
    "\n",
    "links_df = pd.read_csv('../datasets/ml-latest-small/links.csv')\n",
    "\n",
    "movie_id_mapping = dict(zip(links_df['movieId'], links_df['tmdbId']))\n",
    "\n",
    "import json\n",
    "with open('movie_id_mapping.json', 'w') as f:\n",
    "    json.dump(movie_id_mapping, f)\n"
   ]
  },
  {
   "cell_type": "code",
   "execution_count": null,
   "id": "03a6405a-ddc1-4dc8-995f-9a0ee0e11daa",
   "metadata": {},
   "outputs": [],
   "source": []
  }
 ],
 "metadata": {
  "kernelspec": {
   "display_name": "Python 3 (ipykernel)",
   "language": "python",
   "name": "python3"
  },
  "language_info": {
   "codemirror_mode": {
    "name": "ipython",
    "version": 3
   },
   "file_extension": ".py",
   "mimetype": "text/x-python",
   "name": "python",
   "nbconvert_exporter": "python",
   "pygments_lexer": "ipython3",
   "version": "3.12.4"
  }
 },
 "nbformat": 4,
 "nbformat_minor": 5
}
